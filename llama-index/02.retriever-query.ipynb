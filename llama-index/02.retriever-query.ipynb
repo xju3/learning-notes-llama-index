{
 "cells": [
  {
   "cell_type": "markdown",
   "metadata": {},
   "source": [
    "since the index data has been saved into database, in this demo app, we will retrieve data from database with a particular index id: 8fa7a1a1-ed30-4b78-8d13-dc32fe72509e"
   ]
  },
  {
   "cell_type": "code",
   "execution_count": null,
   "metadata": {},
   "outputs": [],
   "source": []
  }
 ],
 "metadata": {
  "language_info": {
   "name": "python"
  }
 },
 "nbformat": 4,
 "nbformat_minor": 2
}
