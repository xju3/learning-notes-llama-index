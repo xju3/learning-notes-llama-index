{
 "cells": [
  {
   "cell_type": "code",
   "execution_count": null,
   "metadata": {},
   "outputs": [],
   "source": [
    "! pip install llama-index-readers-smart-pdf-loader\n",
    "! pip install llama_index\n",
    "! pip install llmsherpa\n",
    "! pip install llama-index-readers-pdf-marker\n",
    "! pip install llama-index-readers-llama-parse\n",
    "! pip install llama-parse\n",
    "! pip install llama-index-storage-index-store-postgres\n",
    "! pip install llama-index-indices-managed-postgresml\n",
    "! pip install llama-index-storage-index-store-postgres\n",
    "! pip install llama-index-storage-docstore-postgres\n",
    "! pip install llama-index-storage-docstore-mongodb\n",
    "! pip install llama-index-storage-index-store-mongodb\n",
    "! pip install llama-index-llms-openai\n",
    "! pip install llama-index-extractors-entity\n",
    "! pip install llama-index-extractors-marvin\n",
    "! pip install unstructured\n",
    "! pip install lxml\n",
    "! pip install python-dotenv"
   ]
  },
  {
   "cell_type": "markdown",
   "metadata": {},
   "source": [
    "```Since the indexed data has been stored in database, in this demo app, we will retrieve data from database with a particular index id: 8fa7a1a1-ed30-4b78-8d13-dc32fe72509e```"
   ]
  },
  {
   "cell_type": "code",
   "execution_count": null,
   "metadata": {},
   "outputs": [],
   "source": [
    "from llama_index.storage.index_store.postgres import PostgresIndexStore\n",
    "from llama_index.storage.docstore.postgres import PostgresDocumentStore\n",
    "from llama_index.core import VectorStoreIndex\n",
    "from llama_index.core import StorageContext\n",
    "from dotenv import load_dotenv\n",
    "import os\n",
    "load_dotenv(\".env\")\n",
    "mongo_uri = os.getenv(\"MONGO_URI\")\n",
    "\n",
    "\n",
    "pg_uri = os.getenv(\"PG_URI\")\n",
    "pg_storage_context = StorageContext.from_defaults(\n",
    "    index_store=PostgresIndexStore.from_uri(uri=pg_uri),\n",
    "    docstore=PostgresDocumentStore.from_uri(uri=pg_uri))\n",
    "\n",
    "vector_store_index_key = '8fa7a1a1-ed30-4b78-8d13-dc32fe72509e'\n",
    "# vector_index = VectorStoreIndex.from_documents()\n"
   ]
  }
 ],
 "metadata": {
  "kernelspec": {
   "display_name": ".venv",
   "language": "python",
   "name": "python3"
  },
  "language_info": {
   "codemirror_mode": {
    "name": "ipython",
    "version": 3
   },
   "file_extension": ".py",
   "mimetype": "text/x-python",
   "name": "python",
   "nbconvert_exporter": "python",
   "pygments_lexer": "ipython3",
   "version": "3.11.10"
  }
 },
 "nbformat": 4,
 "nbformat_minor": 2
}
