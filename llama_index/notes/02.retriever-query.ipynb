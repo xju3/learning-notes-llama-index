{
 "cells": [
  {
   "cell_type": "code",
   "execution_count": null,
   "metadata": {},
   "outputs": [],
   "source": [
    "! pip install llama-index-readers-smart-pdf-loader\n",
    "! pip install llama_index\n",
    "! pip install llmsherpa\n",
    "! pip install llama-index-readers-pdf-marker\n",
    "! pip install llama-index-readers-llama-parse\n",
    "! pip install llama-parse\n",
    "! pip install llama-index-storage-index-store-postgres\n",
    "! pip install llama-index-indices-managed-postgresml\n",
    "! pip install llama-index-storage-index-store-postgres\n",
    "! pip install llama-index-storage-docstore-postgres\n",
    "! pip install llama-index-storage-docstore-mongodb\n",
    "! pip install llama-index-storage-index-store-mongodb\n",
    "! pip install llama-index-llms-openai\n",
    "! pip install llama-index-llms-ollama\n",
    "! pip install llama-index-extractors-entity\n",
    "! pip install llama-index-extractors-marvin\n",
    "! pip install unstructured\n",
    "! pip install lxml\n",
    "! pip install python-dotenv\n",
    "! pip install mercury"
   ]
  },
  {
   "cell_type": "markdown",
   "metadata": {},
   "source": [
    "```Since the indexed data has been stored in database, in this demo app, we will retrieve data from database with a particular index id: 8fa7a1a1-ed30-4b78-8d13-dc32fe72509e```"
   ]
  },
  {
   "cell_type": "code",
   "execution_count": null,
   "metadata": {},
   "outputs": [],
   "source": [
    "from env import AppConfig\n",
    "from llama_index.core import Settings\n",
    "config = AppConfig()\n",
    "logger = config.logger\n",
    "# resp = Settings.llm.complete(\"hello\")\n",
    "# config.logger.debug(resp)"
   ]
  },
  {
   "cell_type": "code",
   "execution_count": null,
   "metadata": {},
   "outputs": [],
   "source": [
    "from llama_index.storage.index_store.postgres import PostgresIndexStore\n",
    "from llama_index.storage.docstore.postgres import PostgresDocumentStore\n",
    "from llama_index.core import StorageContext\n",
    "doc_store = PostgresDocumentStore.from_uri(uri=config.pg_uri)\n",
    "idx_store = PostgresIndexStore.from_uri(uri=config.pg_uri)\n",
    "storage_context = StorageContext.from_defaults(docstore=doc_store, index_store=idx_store)"
   ]
  },
  {
   "cell_type": "markdown",
   "metadata": {},
   "source": [
    "```Get documents from PG database ```"
   ]
  },
  {
   "cell_type": "code",
   "execution_count": null,
   "metadata": {},
   "outputs": [],
   "source": []
  },
  {
   "cell_type": "markdown",
   "metadata": {},
   "source": [
    "```Load Index by Id from PG database```"
   ]
  },
  {
   "cell_type": "code",
   "execution_count": null,
   "metadata": {},
   "outputs": [],
   "source": [
    "\n",
    "from llama_index.core import VectorStoreIndex, load_index_from_storage\n",
    "vector_store_index_key = '8fa7a1a1-ed30-4b78-8d13-dc32fe72509e'\n",
    "index = load_index_from_storage(storage_context=storage_context, index_id=vector_store_index_key)\n",
    "query_engine = VectorStoreIndex(index.as_query_engine(llm=config.llm))\n",
    "resp = query_engine.query(\"hello\")\n",
    "logger.debug(resp)\n",
    "\n"
   ]
  },
  {
   "cell_type": "markdown",
   "metadata": {},
   "source": [
    "```load all indices from pg```"
   ]
  },
  {
   "cell_type": "code",
   "execution_count": null,
   "metadata": {},
   "outputs": [],
   "source": [
    "from llama_index.core import  load_indices_from_storage\n",
    "indices = load_indices_from_storage(storage_context=storage_context)\n",
    "logger.debug(len(indices))"
   ]
  }
 ],
 "metadata": {
  "kernelspec": {
   "display_name": ".venv",
   "language": "python",
   "name": "python3"
  },
  "language_info": {
   "codemirror_mode": {
    "name": "ipython",
    "version": 3
   },
   "file_extension": ".py",
   "mimetype": "text/x-python",
   "name": "python",
   "nbconvert_exporter": "python",
   "pygments_lexer": "ipython3",
   "version": "3.11.10"
  }
 },
 "nbformat": 4,
 "nbformat_minor": 2
}
