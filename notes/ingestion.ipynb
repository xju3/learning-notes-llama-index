{
 "cells": [
  {
   "cell_type": "code",
   "execution_count": null,
   "metadata": {},
   "outputs": [],
   "source": [
    "! pip install llama_index\n",
    "! pip install llama-parse\n",
    "! pip install llmsherpa\n",
    "! pip install llama-index-readers-pdf-marker\n",
    "! pip install llama-index-readers-llama-parse\n",
    "! pip install llama-index-readers-smart-pdf-loader\n",
    "! pip install llama-index-indices-managed-postgresml\n",
    "! pip install llama-index-storage-index-store-postgres\n",
    "! pip install llama-index-storage-index-store-mongodb\n",
    "! pip install llama-index-storage-index-store-postgres\n",
    "! pip install llama-index-storage-docstore-postgres\n",
    "! pip install llama-index-storage-docstore-mongodb\n",
    "! pip install llama-index-vector-stores-postgres\n",
    "! pip install llama-index-vector-stores-pinecone\n",
    "! pip install llama-index-vector-stores-mongodb\n",
    "! pip install llama-index-vector-stores-chroma\n",
    "! pip install llama-index-vector-stores-redis\n",
    "! pip install llama-index-embeddings-huggingface\n",
    "! pip install llama-index-embeddings-instructor\n",
    "! pip install llama-index-embeddings-ollama\n",
    "! pip install llama-index-llms-openai\n",
    "! pip install llama-index-llms-ollama\n",
    "! pip install llama-index-extractors-entity\n",
    "! pip install llama-index-extractors-marvin\n",
    "! pip install unstructured\n",
    "! pip install lxml"
   ]
  },
  {
   "cell_type": "markdown",
   "metadata": {},
   "source": [
    "##### 1. Runtime Environment"
   ]
  },
  {
   "cell_type": "markdown",
   "metadata": {},
   "source": [
    "- initialize llm"
   ]
  },
  {
   "cell_type": "code",
   "execution_count": null,
   "metadata": {},
   "outputs": [],
   "source": [
    "import sys\n",
    "sys.path.append(\"../\")\n",
    "\n",
    "from llama_index.core import Settings\n",
    "from common.llm import LlmConfig, LocalLLM\n",
    "config = LlmConfig(LocalLLM.LM_STUDIO)\n",
    "logger = config.logger"
   ]
  },
  {
   "cell_type": "markdown",
   "metadata": {},
   "source": [
    "- test local llm"
   ]
  },
  {
   "cell_type": "code",
   "execution_count": null,
   "metadata": {},
   "outputs": [],
   "source": [
    "logger.debug(config.llm.complete(\"你好\"))"
   ]
  },
  {
   "cell_type": "markdown",
   "metadata": {},
   "source": [
    "##### 2. read documents"
   ]
  },
  {
   "cell_type": "markdown",
   "metadata": {},
   "source": [
    "- read docs from diretory"
   ]
  },
  {
   "cell_type": "code",
   "execution_count": null,
   "metadata": {},
   "outputs": [],
   "source": [
    "from common.reader import read_files_from_directory\n",
    "\n",
    "from pathlib import Path\n",
    "docs = read_files_from_directory(\"./pdf\")"
   ]
  },
  {
   "cell_type": "markdown",
   "metadata": {},
   "source": [
    "- read docs by llama cloud"
   ]
  },
  {
   "cell_type": "code",
   "execution_count": null,
   "metadata": {},
   "outputs": [],
   "source": [
    "from common.reader import read_files_by_llamaParse\n",
    "file_name = f'{Path.cwd()}/pdf/2023_530-576.pdf'\n",
    "docs = read_files_by_llamaParse(file_input=file_name)"
   ]
  },
  {
   "cell_type": "markdown",
   "metadata": {},
   "source": [
    "##### 3. generate nodes"
   ]
  },
  {
   "cell_type": "markdown",
   "metadata": {},
   "source": [
    "- splitter"
   ]
  },
  {
   "cell_type": "code",
   "execution_count": null,
   "metadata": {},
   "outputs": [],
   "source": [
    "from common.parser import sentence_splitter\n",
    "nodes = sentence_splitter(docs=docs)"
   ]
  },
  {
   "cell_type": "markdown",
   "metadata": {},
   "source": [
    "- parser"
   ]
  },
  {
   "cell_type": "code",
   "execution_count": null,
   "metadata": {},
   "outputs": [],
   "source": [
    "from common.parser import sematic_splitter_node_parse\n",
    "nodes = sematic_splitter_node_parse(docs=docs, embedding=Settings.embed_model)\n",
    "logger.debug(len(nodes))"
   ]
  },
  {
   "cell_type": "markdown",
   "metadata": {},
   "source": [
    "- pipeline"
   ]
  },
  {
   "cell_type": "code",
   "execution_count": null,
   "metadata": {},
   "outputs": [],
   "source": [
    "from common.parser import gen_nodes_by_pipeline\n",
    "nodes = gen_nodes_by_pipeline(docs=docs, embedding=config.embedding)\n",
    "logger.debug(f\"nodes: {len(nodes)}\")"
   ]
  },
  {
   "cell_type": "markdown",
   "metadata": {},
   "source": [
    "##### 4. extract meta-data"
   ]
  },
  {
   "cell_type": "markdown",
   "metadata": {},
   "source": [
    "- title extractor"
   ]
  },
  {
   "cell_type": "code",
   "execution_count": null,
   "metadata": {},
   "outputs": [],
   "source": [
    "from common.extractor import title_extractor\n",
    "meta_data_List = title_extractor(nodes=nodes)"
   ]
  },
  {
   "cell_type": "markdown",
   "metadata": {},
   "source": [
    "- keyword extractor"
   ]
  },
  {
   "cell_type": "code",
   "execution_count": null,
   "metadata": {},
   "outputs": [],
   "source": [
    "from common.extractor import keyword_extractor\n",
    "meta_data_list = keyword_extractor(nodes=nodes)"
   ]
  },
  {
   "cell_type": "markdown",
   "metadata": {},
   "source": [
    "- entity extractor"
   ]
  },
  {
   "cell_type": "code",
   "execution_count": null,
   "metadata": {},
   "outputs": [],
   "source": [
    "from common.extractor import entity_extractor\n",
    "meta_data_list = entity_extractor(nodes=nodes)"
   ]
  },
  {
   "cell_type": "markdown",
   "metadata": {},
   "source": [
    "##### 5. Preparing Store Context"
   ]
  },
  {
   "cell_type": "markdown",
   "metadata": {},
   "source": [
    "- mongo"
   ]
  },
  {
   "cell_type": "code",
   "execution_count": null,
   "metadata": {},
   "outputs": [],
   "source": [
    "from common.storage import get_mongo_storage_context\n",
    "mongo_storage_context = get_mongo_storage_context()"
   ]
  },
  {
   "cell_type": "markdown",
   "metadata": {},
   "source": [
    "- [pg](pg.sql)"
   ]
  },
  {
   "cell_type": "code",
   "execution_count": null,
   "metadata": {},
   "outputs": [],
   "source": [
    "from common.storage import get_pg_storage_context\n",
    "pg_storage_context = get_pg_storage_context(db_schema=\"qwen\", dims=1536)"
   ]
  },
  {
   "cell_type": "markdown",
   "metadata": {},
   "source": [
    "- neo4j"
   ]
  },
  {
   "cell_type": "code",
   "execution_count": null,
   "metadata": {},
   "outputs": [],
   "source": [
    "from common.storage import get_neo4j_storage_context\n",
    "neo4j_storage_context = get_neo4j_storage_context()"
   ]
  },
  {
   "cell_type": "markdown",
   "metadata": {},
   "source": [
    "##### 6. index"
   ]
  },
  {
   "cell_type": "markdown",
   "metadata": {},
   "source": [
    "- vector index"
   ]
  },
  {
   "cell_type": "code",
   "execution_count": null,
   "metadata": {},
   "outputs": [],
   "source": [
    "from llama_index.core import (DocumentSummaryIndex, \n",
    "                              KeywordTableIndex, \n",
    "                              KnowledgeGraphIndex, \n",
    "                              PropertyGraphIndex,\n",
    "                              RAKEKeywordTableIndex,\n",
    "                              SimpleKeywordTableIndex,\n",
    "                              SummaryIndex, \n",
    "                              TreeIndex, \n",
    "                              VectorStoreIndex,\n",
    "                              ListIndex, \n",
    "                              GPTListIndex,\n",
    "                              GPTVectorStoreIndex,\n",
    "                              GPTTreeIndex,\n",
    "                              GPTSimpleKeywordTableIndex,)\n",
    "\n",
    "vector_index = VectorStoreIndex(nodes=nodes, \n",
    "                                embed_model=config.embedding, \n",
    "                                storage_context=pg_storage_context)\n",
    "# pg_storage_context.index_store.persist()"
   ]
  },
  {
   "cell_type": "code",
   "execution_count": null,
   "metadata": {},
   "outputs": [],
   "source": [
    "query_engine = vector_index.as_query_engine()\n",
    "q = \"用于临床检测的自身抗体主要有几类\"\n",
    "q = \"列出表20-2的内容\"\n",
    "q = \"请描述自身抗体检测的实验室分析路径\"\n",
    "resp = query_engine.query(q)\n",
    "logger.debug(resp)"
   ]
  },
  {
   "cell_type": "markdown",
   "metadata": {},
   "source": [
    "- summary index"
   ]
  },
  {
   "cell_type": "code",
   "execution_count": null,
   "metadata": {},
   "outputs": [],
   "source": [
    "from llama_index.core import SummaryIndex\n",
    "summary_index = SummaryIndex(nodes, storage_context=pg_storage_context)"
   ]
  },
  {
   "cell_type": "markdown",
   "metadata": {},
   "source": [
    "- simple keyword index"
   ]
  },
  {
   "cell_type": "code",
   "execution_count": null,
   "metadata": {},
   "outputs": [],
   "source": [
    "from llama_index.core import SimpleKeywordTableIndex\n",
    "simple_keyword_index = SimpleKeywordTableIndex(nodes=nodes, storage_context=pg_storage_context)"
   ]
  },
  {
   "cell_type": "markdown",
   "metadata": {},
   "source": [
    "- ollama.ai"
   ]
  },
  {
   "cell_type": "code",
   "execution_count": null,
   "metadata": {},
   "outputs": [],
   "source": [
    "from llama_index.storage.docstore.postgres import PostgresDocumentStore\n",
    "from llama_index.storage.kvstore.postgres import PostgresKVStore\n",
    "from llama_index.indices.managed.postgresml import PostgresMLIndex\n",
    "index = PostgresMLIndex.from_documents(collection_name= \"llama-index-test-1\", documents= docs)"
   ]
  }
 ],
 "metadata": {
  "kernelspec": {
   "display_name": ".venv",
   "language": "python",
   "name": "python3"
  },
  "language_info": {
   "codemirror_mode": {
    "name": "ipython",
    "version": 3
   },
   "file_extension": ".py",
   "mimetype": "text/x-python",
   "name": "python",
   "nbconvert_exporter": "python",
   "pygments_lexer": "ipython3",
   "version": "3.11.10"
  }
 },
 "nbformat": 4,
 "nbformat_minor": 2
}
