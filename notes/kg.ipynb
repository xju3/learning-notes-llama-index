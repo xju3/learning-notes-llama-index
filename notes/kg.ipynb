{
 "cells": [
  {
   "cell_type": "code",
   "execution_count": null,
   "metadata": {},
   "outputs": [],
   "source": [
    "%pip install llama-index-graph-stores-neo4j\n",
    "%pip install neo4j\n",
    "%pip install llama-index-packs-neo4j-query-engine\n",
    "%pip install llama-index-tools-neo4j"
   ]
  },
  {
   "cell_type": "code",
   "execution_count": null,
   "metadata": {},
   "outputs": [],
   "source": [
    "import sys\n",
    "sys.path.append(\"../\")\n",
    "from IPython.display import Markdown, display\n",
    "from llama_index.core import Settings\n",
    "from common.env import AppConfig\n",
    "from common.env import LocalLLM\n",
    "from llama_index.core import Settings\n",
    "config = AppConfig(local_llm=LocalLLM.LM_STUDIO)\n",
    "logger = config.logger\n",
    "\n"
   ]
  },
  {
   "cell_type": "code",
   "execution_count": null,
   "metadata": {},
   "outputs": [],
   "source": [
    "from llama_index.graph_stores.neo4j import Neo4jGraphStore\n",
    "from llama_index.core import StorageContext\n",
    "from llama_index.core.retrievers import KnowledgeGraphRAGRetriever\n",
    "\n",
    "username = \"neo4j\"\n",
    "password = \"neo4j@sh123\"\n",
    "url = \"bolt://localhost:7687\"\n",
    "database = \"movies\"\n",
    "\n",
    "graph_store = Neo4jGraphStore(\n",
    "    username=username,\n",
    "    password=password,\n",
    "    url=url,\n",
    "    database=database,\n",
    ")\n",
    "\n",
    "storage_context = StorageContext.from_defaults(graph_store=graph_store)\n",
    "retriver = KnowledgeGraphRAGRetriever(storage_context=storage_context)\n",
    "# Clean dataset first\n",
    "# graph_store.query(\n",
    "#     \"\"\"\n",
    "# MATCH (n) DETACH DELETE n\n",
    "# \"\"\"\n",
    "# )"
   ]
  },
  {
   "cell_type": "code",
   "execution_count": null,
   "metadata": {},
   "outputs": [],
   "source": [
    "from llama_index.core.prompts.base import BasePromptTemplate\n",
    "# custom_prompt_template = \"\"\"\n",
    "# Your custom prompt template goes here.\n",
    "# \"\"\"\n",
    "# custom_prompt = BasePromptTemplate(custom_prompt_template)\n",
    "q = \"tell me about Jack Chain\""
   ]
  },
  {
   "cell_type": "code",
   "execution_count": null,
   "metadata": {},
   "outputs": [],
   "source": [
    "from llama_index.core.query_engine import RetrieverQueryEngine\n",
    "engine = RetrieverQueryEngine(retriever=retriver)\n",
    "resp = engine.get_prompts()\n",
    "display(Markdown(f\"<b>{resp}</b>\"))"
   ]
  },
  {
   "cell_type": "code",
   "execution_count": null,
   "metadata": {},
   "outputs": [],
   "source": [
    "from llama_index.tools.neo4j import Neo4jQueryToolSpec\n",
    "from llama_index.agent.openai import OpenAIAgent\n",
    "\n",
    "gds_db = Neo4jQueryToolSpec(\n",
    "    url=url,\n",
    "    user=username,\n",
    "    password=password,\n",
    "    llm=Settings.llm,\n",
    "    database=database,\n",
    ")\n",
    "\n",
    "tools = gds_db.to_tool_list()\n",
    "agent = OpenAIAgent.from_tools(tools, verbose=True)\n",
    "# q = \"when was Gene Hackman born.\"\n",
    "# q = \"list all Ethan Hawke's movies.\"\n",
    "# q = \"how many actors are there in the movie When Harry Met Sally \"\n",
    "# q = \"tell me about the movie When Harry Met Sally\"\n",
    "q = \"list James Thompson's television series\"\n",
    "resp = agent.query(q)\n",
    "display(Markdown(f\"<b>{resp}</b>\"))"
   ]
  },
  {
   "cell_type": "code",
   "execution_count": null,
   "metadata": {},
   "outputs": [],
   "source": [
    "\n",
    "from llama_index.core.query_engine import KnowledgeGraphQueryEngine\n",
    "from llama_index.core import PropertyGraphIndex\n",
    "\n",
    "engine = KnowledgeGraphQueryEngine(storage_context=storage_context, \n",
    "                                   llm=Settings.llm, verbose=True)\n",
    "resp = engine.query(\"how many movies has Tom Hanks starred in\")\n",
    "display(Markdown(f\"<b>{resp}</b>\"))"
   ]
  },
  {
   "cell_type": "code",
   "execution_count": null,
   "metadata": {},
   "outputs": [],
   "source": [
    "from llama_index.packs.neo4j_query_engine import Neo4jQueryEnginePack\n",
    "from llama_index.packs.neo4j_query_engine.base import Neo4jQueryEngineType\n",
    "\n",
    "neo4j_pack = Neo4jQueryEnginePack(\n",
    "    username=username,\n",
    "    password=password,\n",
    "    url=url,\n",
    "    database=database,\n",
    "    query_engine_type=Neo4jQueryEngineType.KG_HYBRID,\n",
    ")"
   ]
  }
 ],
 "metadata": {
  "kernelspec": {
   "display_name": "Python 3",
   "language": "python",
   "name": "python3"
  },
  "language_info": {
   "codemirror_mode": {
    "name": "ipython",
    "version": 3
   },
   "file_extension": ".py",
   "mimetype": "text/x-python",
   "name": "python",
   "nbconvert_exporter": "python",
   "pygments_lexer": "ipython3",
   "version": "3.11.10"
  }
 },
 "nbformat": 4,
 "nbformat_minor": 2
}
