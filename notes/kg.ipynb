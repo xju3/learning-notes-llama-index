{
 "cells": [
  {
   "cell_type": "code",
   "execution_count": null,
   "metadata": {},
   "outputs": [],
   "source": [
    "%pip install llama-index\n",
    "%pip install llama_index_llms_ollama\n",
    "%pip install llama-index-llms-openai\n",
    "%pip install llama-index-llms-lmstudio\n",
    "%pip install llama-index-embeddings-huggingface\n",
    "%pip install llama-index-embeddings-ollama\n",
    "%pip install llama-index-graph-stores-neo4j\n",
    "%pip install llama-index-packs-neo4j-query-engine\n",
    "%pip install llama-index-tools-neo4j\n",
    "%pip install python-dotenv\n",
    "%pip install neo4j"
   ]
  },
  {
   "cell_type": "markdown",
   "metadata": {},
   "source": [
    "### Ingest Documents which persisted in Neo4j Database"
   ]
  },
  {
   "cell_type": "markdown",
   "metadata": {},
   "source": [
    "1.0. Prepare Runtime Env"
   ]
  },
  {
   "cell_type": "code",
   "execution_count": null,
   "metadata": {},
   "outputs": [],
   "source": [
    "import sys\n",
    "sys.path.append(\"../\")\n",
    "from IPython.display import Markdown, display\n",
    "from llama_index.core import Settings\n",
    "from common.llm import LlmConfig\n",
    "from common.llm import LocalLLM\n",
    "config = LlmConfig(local_llm=LocalLLM.LM_STUDIO)\n",
    "logger = config.logger"
   ]
  },
  {
   "cell_type": "markdown",
   "metadata": {},
   "source": [
    "3. Read Documents"
   ]
  },
  {
   "cell_type": "code",
   "execution_count": null,
   "metadata": {},
   "outputs": [],
   "source": [
    "from common.reader import read_files_from_directory\n",
    "docs = read_files_from_directory(\"./pdf_files\")"
   ]
  },
  {
   "cell_type": "markdown",
   "metadata": {},
   "source": [
    "3. Generate Nodes"
   ]
  },
  {
   "cell_type": "code",
   "execution_count": null,
   "metadata": {},
   "outputs": [],
   "source": [
    "from common.nodes import gen_nodes_by_pipeline\n",
    "nodes = gen_nodes_by_pipeline(config=config, docs=docs)"
   ]
  },
  {
   "cell_type": "markdown",
   "metadata": {},
   "source": [
    "4. Preparing Storage Context"
   ]
  },
  {
   "cell_type": "code",
   "execution_count": null,
   "metadata": {},
   "outputs": [],
   "source": [
    "from common.storage import neo4j_storage_context\n",
    "storage_context = neo4j_storage_context(config=config, database='docs')"
   ]
  },
  {
   "cell_type": "code",
   "execution_count": null,
   "metadata": {},
   "outputs": [],
   "source": [
    "from llama_index.core import KnowledgeGraphIndex\n",
    "index = KnowledgeGraphIndex.from_documents(\n",
    "    docs,\n",
    "    storage_context=storage_context,\n",
    "    max_triplets_per_chunk=2,\n",
    ")\n",
    "# query_engine = index.as_query_engine(\n",
    "#     include_text=False, response_mode=\"tree_summarize\"\n",
    "# )\n",
    "# response = query_engine.query(\"Tell me more about 林斌\")"
   ]
  },
  {
   "cell_type": "code",
   "execution_count": null,
   "metadata": {},
   "outputs": [],
   "source": [
    "storage_context.persist()"
   ]
  },
  {
   "cell_type": "code",
   "execution_count": null,
   "metadata": {},
   "outputs": [],
   "source": [
    "query_engine = index.as_query_engine()\n",
    "q = \"林斌是男的还是女的\"\n",
    "# q = \"林斌是哪年出生的\"\n",
    "# q = \"林斌有本科学历吗\"\n",
    "resp = query_engine.query(q)\n",
    "print(resp)"
   ]
  }
 ],
 "metadata": {
  "kernelspec": {
   "display_name": "Python 3",
   "language": "python",
   "name": "python3"
  },
  "language_info": {
   "codemirror_mode": {
    "name": "ipython",
    "version": 3
   },
   "file_extension": ".py",
   "mimetype": "text/x-python",
   "name": "python",
   "nbconvert_exporter": "python",
   "pygments_lexer": "ipython3",
   "version": "3.11.10"
  }
 },
 "nbformat": 4,
 "nbformat_minor": 2
}
