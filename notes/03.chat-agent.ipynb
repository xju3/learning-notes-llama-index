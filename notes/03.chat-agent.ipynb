{
 "cells": [
  {
   "cell_type": "markdown",
   "metadata": {},
   "source": [
    "``` Chat With Database ```"
   ]
  },
  {
   "cell_type": "code",
   "execution_count": null,
   "metadata": {},
   "outputs": [],
   "source": [
    "! pip install llama-index-tools-database\n",
    "! pip install llama-index-llms-lmstudio"
   ]
  },
  {
   "cell_type": "code",
   "execution_count": null,
   "metadata": {},
   "outputs": [],
   "source": [
    "from llama_index.core import Settings\n",
    "from llama_index.embeddings.ollama import OllamaEmbedding\n",
    "\n",
    "from llama_index.llms.openai import OpenAI\n",
    "from llama_index.llms.ollama import Ollama\n",
    "import os\n",
    "\n",
    "ollama_host = os.getenv(\"OLLAMA_API\")\n",
    "ollama_model = os.getenv(\"OLLAMA_MODEL\")\n",
    "openai_api_key = os.getenv(\"OPENAI_API_KEY\")\n",
    "embedding = OllamaEmbedding(model_name=ollama_model, base_url=ollama_host)\n",
    "llm = Ollama(model=ollama_model, base_url=ollama_host, request_timeout=120)\n",
    "openai = OpenAI(api_base=\"http://127.0.0.1:3333/v1\", api_key=openai_api_key)\n",
    "Settings.llm = openai\n",
    "Settings.embed_model = embedding\n",
    "# print(openai.complete(\"who is lionel messi?\"))"
   ]
  },
  {
   "cell_type": "markdown",
   "metadata": {},
   "source": [
    "```chat agent```"
   ]
  },
  {
   "cell_type": "code",
   "execution_count": null,
   "metadata": {},
   "outputs": [],
   "source": [
    "from llama_index.core.agent import AgentRunner\n",
    "from llama_index.agent.openai import OpenAIAgentWorker\n",
    "from llama_index.tools.database import DatabaseToolSpec\n",
    "db_tools = DatabaseToolSpec(uri=\"sqlite:///database//employees.db\")\n",
    "tools = db_tools.to_tool_list()\n",
    "\n",
    "step_engine = OpenAIAgentWorker.from_tools(llm= openai, \n",
    "                                           tools=tools, \n",
    "                                           verbose=True)\n",
    "agent = AgentRunner(step_engine)\n",
    "input =  (\n",
    "    \"Find the highest paid HR employee and write \"\n",
    "    \"them an email announcing a bonus\"\n",
    ")\n",
    "\n",
    "task = agent.create_task(input)\n",
    "step_output = agent.run_step(task.task_id)\n",
    "\n",
    "while not step_output.is_last:\n",
    "    step_output = agent.run_step(task.task_id)\n",
    "\n",
    "response = agent.finalize_response(task.task_id)\n",
    "print(response)\n"
   ]
  },
  {
   "cell_type": "markdown",
   "metadata": {},
   "source": [
    "```chat memory```"
   ]
  },
  {
   "cell_type": "code",
   "execution_count": null,
   "metadata": {},
   "outputs": [],
   "source": [
    "from llama_index.core.storage.chat_store import SimpleChatStore\n",
    "from llama_index.core.chat_engine import SimpleChatEngine\n",
    "from llama_index.core.memory import ChatMemoryBuffer\n",
    "\n",
    "try:\n",
    "    chat_store = SimpleChatStore.from_persist_path(\n",
    "        persist_path=\"chat_memory.json\"\n",
    "    )\n",
    "except FileNotFoundError:\n",
    "    chat_store = SimpleChatStore()\n",
    "\n",
    "\n",
    "memory = ChatMemoryBuffer.from_defaults(\n",
    "    token_limit=2000,\n",
    "    chat_store=chat_store,\n",
    "    chat_store_key=\"user_X\"\n",
    "    )  \n",
    "\n",
    "chat_engine = SimpleChatEngine.from_defaults(memory=memory)\n",
    "while True:\n",
    "    user_message = input(\"You: \")\n",
    "    if user_message.lower() == 'exit':\n",
    "        print(\"Exiting chat...\")\n",
    "        break\n",
    "    response = chat_engine.chat(user_message)\n",
    "    print(f\"Chatbot: {response}\")\n",
    "\n",
    "chat_store.persist(persist_path=\"chat_memory.json\")\n"
   ]
  },
  {
   "cell_type": "markdown",
   "metadata": {},
   "source": [
    "```condense questions```"
   ]
  },
  {
   "cell_type": "code",
   "execution_count": null,
   "metadata": {},
   "outputs": [],
   "source": [
    "from llama_index.core import VectorStoreIndex, SimpleDirectoryReader\n",
    "from llama_index.core.chat_engine import CondenseQuestionChatEngine\n",
    "from llama_index.core.llms import ChatMessage\n",
    "\n",
    "documents = SimpleDirectoryReader(\"files\").load_data()\n",
    "index = VectorStoreIndex.from_documents(documents)\n",
    "query_engine=index.as_query_engine()\n",
    "chat_history = [\n",
    "    ChatMessage(\n",
    "        role=\"user\",\n",
    "        content=\"Arch of Constantine is a famous\"\n",
    "        \"building in Rome\"\n",
    "    ),\n",
    "    ChatMessage(\n",
    "        role=\"user\",\n",
    "        content=\"The Pantheon should not be \"\n",
    "        \"regarded as a famous building\"\n",
    "    ),\n",
    "]\n",
    "\n",
    "chat_engine = CondenseQuestionChatEngine.from_defaults(\n",
    "    query_engine=query_engine,\n",
    "    chat_history=chat_history\n",
    ")\n",
    "response = chat_engine.chat(\n",
    "    \"What are two of the most famous structures in ancient Rome?\"\n",
    ")\n",
    "print(response)\n"
   ]
  },
  {
   "cell_type": "markdown",
   "metadata": {},
   "source": [
    "```context chat engine```"
   ]
  },
  {
   "cell_type": "code",
   "execution_count": null,
   "metadata": {},
   "outputs": [],
   "source": [
    "from llama_index.core import VectorStoreIndex, SimpleDirectoryReader\n",
    "docs = SimpleDirectoryReader(input_dir=\"files\").load_data()\n",
    "index = VectorStoreIndex.from_documents(docs)\n",
    "chat_engine = index.as_chat_engine(\n",
    "    chat_mode=\"context\",\n",
    "    system_prompt=(\n",
    "        \"You’re a chatbot, able to talk about \"\n",
    "        \"general topics, as well as answering specific \"\n",
    "        \"questions about ancient Rome.\"\n",
    "    ),\n",
    ")\n",
    "chat_engine.chat_repl()\n"
   ]
  }
 ],
 "metadata": {
  "kernelspec": {
   "display_name": ".venv",
   "language": "python",
   "name": "python3"
  },
  "language_info": {
   "codemirror_mode": {
    "name": "ipython",
    "version": 3
   },
   "file_extension": ".py",
   "mimetype": "text/x-python",
   "name": "python",
   "nbconvert_exporter": "python",
   "pygments_lexer": "ipython3",
   "version": "3.11.10"
  }
 },
 "nbformat": 4,
 "nbformat_minor": 2
}
