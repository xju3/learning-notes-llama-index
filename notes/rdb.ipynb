{
 "cells": [
  {
   "cell_type": "markdown",
   "metadata": {},
   "source": [
    "#### 1.0 运行环境"
   ]
  },
  {
   "cell_type": "code",
   "execution_count": null,
   "metadata": {},
   "outputs": [],
   "source": [
    "import sys\n",
    "sys.path.append(\"../\")\n",
    "from common.env import AppConfig\n",
    "from common.env import LocalLLM\n",
    "from llama_index.core import Settings\n",
    "config = AppConfig(local_llm=LocalLLM.LM_STUDIO)\n",
    "logger = config.logger"
   ]
  },
  {
   "cell_type": "markdown",
   "metadata": {},
   "source": [
    "#### 2. chat with database by an agent"
   ]
  },
  {
   "cell_type": "code",
   "execution_count": null,
   "metadata": {},
   "outputs": [],
   "source": [
    "from llama_index.core.agent import AgentRunner\n",
    "from llama_index.agent.openai import OpenAIAgentWorker\n",
    "from llama_index.tools.database import DatabaseToolSpec\n",
    "from llama_index.core import Settings\n",
    "from IPython.display import Markdown, display\n",
    "db_tools = DatabaseToolSpec(uri=\"sqlite:///database//employees.db\")\n",
    "tools = db_tools.to_tool_list()\n",
    "\n",
    "step_engine = OpenAIAgentWorker.from_tools(llm= Settings.llm, \n",
    "                                           tools=tools, \n",
    "                                           verbose=True)\n",
    "agent = AgentRunner(step_engine)\n",
    "input =  (\n",
    "    \"Find the highest paid HR employee and write \"\n",
    "    \"them an email announcing a bonus\"\n",
    ")\n",
    "\n",
    "task = agent.create_task(input)\n",
    "step_output = agent.run_step(task.task_id)\n",
    "\n",
    "while not step_output.is_last:\n",
    "    step_output = agent.run_step(task.task_id)\n",
    "\n",
    "response = agent.finalize_response(task.task_id)\n",
    "display(Markdown(f'{response}'))"
   ]
  }
 ],
 "metadata": {
  "kernelspec": {
   "display_name": "Python 3",
   "language": "python",
   "name": "python3"
  },
  "language_info": {
   "codemirror_mode": {
    "name": "ipython",
    "version": 3
   },
   "file_extension": ".py",
   "mimetype": "text/x-python",
   "name": "python",
   "nbconvert_exporter": "python",
   "pygments_lexer": "ipython3",
   "version": "3.11.10"
  }
 },
 "nbformat": 4,
 "nbformat_minor": 2
}
