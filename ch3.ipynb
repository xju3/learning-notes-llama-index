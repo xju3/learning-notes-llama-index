{
 "cells": [
  {
   "cell_type": "code",
   "execution_count": null,
   "metadata": {},
   "outputs": [],
   "source": [
    "! pip install llama-index == 0.11.13 \n",
    "! pip install llama-index-llms-ollama\n",
    "! pip install llama-index-embeddings-ollama"
   ]
  },
  {
   "cell_type": "code",
   "execution_count": 3,
   "metadata": {},
   "outputs": [
    {
     "name": "stdout",
     "output_type": "stream",
     "text": [
      "Doc ID: 53cd1446-5b16-4189-bdad-83f2ac6272cc\n",
      "Text: This is a sample document text\n",
      "Node ID: 6884f3bc-1f7b-47f4-ad53-771d5114b5fd\n",
      "Text: This is a sample\n",
      "Node ID: 7a7f6a6d-958c-4e1f-aee4-7f28a52a67cf\n",
      "Text: document text\n"
     ]
    }
   ],
   "source": [
    "from llama_index.core import Document\n",
    "from llama_index.core.schema import TextNode\n",
    "\n",
    "doc = Document(text=\"This is a sample document text\")\n",
    "print(doc)\n",
    "\n",
    "n1 = TextNode(text=doc.text[0: 16])\n",
    "n2 = TextNode(text=doc.text[17: 30])\n",
    "print(n1)\n",
    "print(n2)\n"
   ]
  },
  {
   "cell_type": "code",
   "execution_count": null,
   "metadata": {},
   "outputs": [],
   "source": [
    "from llama_index.core import Document\n",
    "from llama_index.core.schema import TextNode \n",
    "from llama_index.core.node_parser import TokenTextSplitter\n",
    "doc = Document(\n",
    "    text=(\"this is sentence 1. this is sentence 2. \" \"this is sentence 3.\"),\n",
    "    metadata={\"author\": \"John Smith\"}\n",
    "    )\n",
    "\n",
    "splitter = TokenTextSplitter(chunk_size=12, chunk_overlap=0, separator=\" \")\n",
    "nodes = splitter.get_nodes_from_documents([doc])\n",
    "for node in nodes:\n",
    "    print(f'node: {node}')\n",
    "    print(f'metadata: {node.metadata}')\n"
   ]
  },
  {
   "cell_type": "code",
   "execution_count": 14,
   "metadata": {},
   "outputs": [
    {
     "ename": "SyntaxError",
     "evalue": "cannot assign to function call here. Maybe you meant '==' instead of '='? (3444041870.py, line 10)",
     "output_type": "error",
     "traceback": [
      "\u001b[0;36m  Cell \u001b[0;32mIn[14], line 10\u001b[0;36m\u001b[0m\n\u001b[0;31m    n1.relationships(NodeRelationType.NEXT) = n2.node_id\u001b[0m\n\u001b[0m    ^\u001b[0m\n\u001b[0;31mSyntaxError\u001b[0m\u001b[0;31m:\u001b[0m cannot assign to function call here. Maybe you meant '==' instead of '='?\n"
     ]
    }
   ],
   "source": [
    "from llama_index.core import Document\n",
    "from llama_index.core.schema import (TextNode, NodeRelationType, Relationship)\n",
    "from llama_index.core.node_parser import TokenTextSplitter\n",
    "doc = Document(\n",
    "    text=(\"first sentence. second sentence.\"),\n",
    "    metadata={\"author\": \"John Smith\"}\n",
    "    )\n",
    "n1 = TextNode(text=\"first sentence.\", node_id=doc.doc_id)\n",
    "n2 = TextNode(text=\"second sentence.\", node_id=doc.doc_id)\n",
    "n1.relationships(NodeRelationType.NEXT) = n2.node_id\n",
    "n2.relationships(NodeRelationType.PREVIOUS) = n1.node_id\n",
    "print(n1.relationships)\n",
    "print(n2.relationships)\n"
   ]
  }
 ],
 "metadata": {
  "kernelspec": {
   "display_name": "Python 3",
   "language": "python",
   "name": "python3"
  },
  "language_info": {
   "codemirror_mode": {
    "name": "ipython",
    "version": 3
   },
   "file_extension": ".py",
   "mimetype": "text/x-python",
   "name": "python",
   "nbconvert_exporter": "python",
   "pygments_lexer": "ipython3",
   "version": "3.11.10"
  }
 },
 "nbformat": 4,
 "nbformat_minor": 2
}
